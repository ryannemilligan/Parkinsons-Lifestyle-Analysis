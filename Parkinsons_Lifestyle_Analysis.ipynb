{
  "nbformat": 4,
  "nbformat_minor": 0,
  "metadata": {
    "colab": {
      "provenance": [],
      "authorship_tag": "ABX9TyM7si1t6NyN6vu3mGr2ZBvf",
      "include_colab_link": true
    },
    "kernelspec": {
      "name": "python3",
      "display_name": "Python 3"
    },
    "language_info": {
      "name": "python"
    }
  },
  "cells": [
    {
      "cell_type": "markdown",
      "metadata": {
        "id": "view-in-github",
        "colab_type": "text"
      },
      "source": [
        "<a href=\"https://colab.research.google.com/github/ryannemilligan/Parkinsons-Lifestyle-Analysis/blob/main/Parkinsons_Lifestyle_Analysis.ipynb\" target=\"_parent\"><img src=\"https://colab.research.google.com/assets/colab-badge.svg\" alt=\"Open In Colab\"/></a>"
      ]
    },
    {
      "cell_type": "markdown",
      "source": [
        "# Parkinson’s Disease Risk Factors Explorer\n",
        "\n",
        "In this project, I will explore how lifestyle, clinical, and cognitive variables relate to Parkinson’s Disease diagnosis. This project is especially meaningful to me, as my grandfather, Fred O’Brien, battled Parkinson’s. His journey has fueled my passion for using data and AI to better understand this disease and improve patient outcomes."
      ],
      "metadata": {
        "id": "u07QBADsR0wA"
      }
    },
    {
      "cell_type": "markdown",
      "source": [
        "## 1. Load Libraries and Dataset"
      ],
      "metadata": {
        "id": "fDhqzWzHR79s"
      }
    },
    {
      "cell_type": "code",
      "source": [],
      "metadata": {
        "id": "1nHfPPbYS9gN"
      },
      "execution_count": null,
      "outputs": []
    },
    {
      "cell_type": "markdown",
      "source": [
        "## 2. Overview and Preprocessing"
      ],
      "metadata": {
        "id": "sdA6GEORR9bq"
      }
    },
    {
      "cell_type": "markdown",
      "source": [
        "## 3. Exploratory Data Analysis (EDA)"
      ],
      "metadata": {
        "id": "ELhnweiWR_2P"
      }
    },
    {
      "cell_type": "markdown",
      "source": [
        "## 4. Statistical Tests"
      ],
      "metadata": {
        "id": "VGCBUMrrSBTB"
      }
    },
    {
      "cell_type": "markdown",
      "source": [
        "## 5. Predictive Modeling"
      ],
      "metadata": {
        "id": "-B2KBrc8SCyu"
      }
    },
    {
      "cell_type": "markdown",
      "source": [
        "## 6. Insights & Export for Tableau"
      ],
      "metadata": {
        "id": "KyqQU5zkSEOP"
      }
    }
  ]
}